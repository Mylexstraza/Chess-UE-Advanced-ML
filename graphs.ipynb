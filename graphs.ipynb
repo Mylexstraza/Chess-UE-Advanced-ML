{
 "cells": [
  {
   "cell_type": "code",
   "execution_count": 2,
   "metadata": {},
   "outputs": [],
   "source": [
    "import pandas as pd\n",
    "import numpy as np\n",
    "import matplotlib.pyplot as plt\n",
    "import seaborn as sns\n",
    "import os\n",
    "import sys"
   ]
  },
  {
   "cell_type": "code",
   "execution_count": 3,
   "metadata": {},
   "outputs": [],
   "source": [
    "def read_games(file):\n",
    "    games = None\n",
    "    with open(file, \"r\") as f:\n",
    "        games = f.read().split(\"\\n\\n\")\n",
    "\n",
    "    games = [game for game in games if game != \"\"]\n",
    "\n",
    "    formatted_games = []\n",
    "    for game in games:\n",
    "        data = game.split(\"\\n\")\n",
    "        players = data[1].split(\": \")[1].split(\", \")\n",
    "        results = data[2].split(\": \")[1]\n",
    "        results = [0.5, 0.5] if (results == \"*\" or results ==\"1/2-1/2\") else [int(x) for x in results.split(\"-\")]\n",
    "        ratings = data[3].split(\": \")[1].split(\", \")\n",
    "        ratings = [int(x) for x in ratings]\n",
    "        moves = data[4].split(\": \")[1].split(\", \")\n",
    "        durations = data[5].split(\": \")[1].split(\", \")\n",
    "        durations = [float(x) for x in durations]\n",
    "\n",
    "        formatted_games.append({\n",
    "            \"white\": players[0],\n",
    "            \"black\": players[1],\n",
    "            \"white_result\": results[0],\n",
    "            \"black_result\": results[1],\n",
    "            \"ratings\": ratings,\n",
    "            \"white_rating\": ratings[0],\n",
    "            \"black_rating\": ratings[1],\n",
    "            \"moves\": moves,\n",
    "            \"white_moves\": moves[::2],\n",
    "            \"black_moves\": moves[1::2],\n",
    "            \"durations\": durations,\n",
    "            \"white_durations\": durations[::2],\n",
    "            \"black_durations\": durations[1::2],\n",
    "        })\n",
    "\n",
    "    return formatted_games\n",
    "\n",
    "def split_games(games):\n",
    "    new_games = []\n",
    "    for game in games:\n",
    "        new_games.append({\n",
    "            \"player\": game[\"white\"],\n",
    "            \"result\": game[\"white_result\"],\n",
    "            \"ratings\": game[\"white_rating\"],\n",
    "            \"moves\": game[\"white_moves\"],\n",
    "            \"durations\": game[\"white_durations\"],\n",
    "        })\n",
    "        new_games.append({\n",
    "            \"player\": game[\"black\"],\n",
    "            \"result\": game[\"black_result\"],\n",
    "            \"ratings\": game[\"black_rating\"],\n",
    "            \"moves\": game[\"black_moves\"],\n",
    "            \"durations\": game[\"black_durations\"],\n",
    "        })\n",
    "    return new_games"
   ]
  },
  {
   "cell_type": "markdown",
   "metadata": {},
   "source": [
    "## Minimax 1 tournament"
   ]
  },
  {
   "cell_type": "code",
   "execution_count": 15,
   "metadata": {},
   "outputs": [
    {
     "name": "stdout",
     "output_type": "stream",
     "text": [
      "              avg_duration  max_duration  min_duration\n",
      "player                                                \n",
      "minimax_1_d4      0.525307          2.08          0.26\n",
      "minimax_1_d3      0.103975          0.89          0.01\n",
      "minimax_1_d2      0.010384          0.08          0.00\n",
      "minimax_1_d1      0.000000          0.00          0.00\n"
     ]
    },
    {
     "name": "stderr",
     "output_type": "stream",
     "text": [
      "C:\\Users\\salla\\AppData\\Local\\Temp\\ipykernel_26828\\3256959457.py:15: UserWarning: No artists with labels found to put in legend.  Note that artists whose label start with an underscore are ignored when legend() is called with no argument.\n",
      "  plt.legend()\n"
     ]
    },
    {
     "data": {
      "image/png": "[encoded data removed]",
      "text/plain": [
       "<Figure size 1000x500 with 1 Axes>"
      ]
     },
     "metadata": {},
     "output_type": "display_data"
    }
   ],
   "source": [
    "games = read_games(\"./tournaments/tournament_2.txt\")\n",
    "df_split_games = pd.DataFrame(split_games(games))\n",
    "df_split_games[\"num_moves\"] = df_split_games[\"moves\"].apply(lambda x: len(x))\n",
    "df_split_games[\"avg_duration\"] = df_split_games[\"durations\"].apply(lambda x: np.mean(x))\n",
    "df_split_games[\"max_duration\"] = df_split_games[\"durations\"].apply(lambda x: max(x))\n",
    "df_split_games[\"min_duration\"] = df_split_games[\"durations\"].apply(lambda x: min(x))\n",
    "df_split_games.sort_values(by=\"max_duration\", ascending=False)\n",
    "\n",
    "durations = df_split_games.groupby(\"player\").agg({\"avg_duration\": \"mean\", \"max_duration\": \"max\", \"min_duration\": \"min\"}).sort_values(by=\"avg_duration\", ascending=False)\n",
    "print(durations)\n",
    "# Plot for avg_duration\n",
    "plt.figure(figsize=(10, 5))\n",
    "sns.barplot(data=durations, x=durations.index, y=\"avg_duration\", order=durations.sort_values(by=\"avg_duration\", ascending=True).index, errorbar=None)\n",
    "plt.axhline(y=0.1, color='grey', linestyle='--')\n",
    "plt.legend()\n",
    "plt.title(\"Average Turn Duration per Player\")\n",
    "plt.ylabel(\"Duration (s)\")\n",
    "plt.xlabel(\"\")\n",
    "plt.show()"
   ]
  },
  {
   "cell_type": "code",
   "execution_count": null,
   "metadata": {},
   "outputs": [],
   "source": [
    "#           Player       Rating  Number of Games  Number of Win  Number of Draw  Number of Lose  Win Rate\n",
    "# 0  minimax_1_d3  1274.591424               43              9              34               0  0.209302\n",
    "# 1  minimax_1_d4  1206.577791               45              0              45               0  0.000000\n",
    "# 2  minimax_1_d2  1202.680315               34              0              34               0  0.000000\n",
    "# 3  minimax_1_d1  1127.662577               38              0              29               9  0.000000"
   ]
  },
  {
   "cell_type": "code",
   "execution_count": 204,
   "metadata": {},
   "outputs": [
    {
     "data": {
      "text/html": [
       "<div>\n",
       "<style scoped>\n",
       "    .dataframe tbody tr th:only-of-type {\n",
       "        vertical-align: middle;\n",
       "    }\n",
       "\n",
       "    .dataframe tbody tr th {\n",
       "        vertical-align: top;\n",
       "    }\n",
       "\n",
       "    .dataframe thead th {\n",
       "        text-align: right;\n",
       "    }\n",
       "</style>\n",
       "<table border=\"1\" class=\"dataframe\">\n",
       "  <thead>\n",
       "    <tr style=\"text-align: right;\">\n",
       "      <th>result</th>\n",
       "      <th>0.0</th>\n",
       "      <th>0.5</th>\n",
       "      <th>1.0</th>\n",
       "    </tr>\n",
       "    <tr>\n",
       "      <th>player</th>\n",
       "      <th></th>\n",
       "      <th></th>\n",
       "      <th></th>\n",
       "    </tr>\n",
       "  </thead>\n",
       "  <tbody>\n",
       "    <tr>\n",
       "      <th>minimax_1_d3</th>\n",
       "      <td>0.0</td>\n",
       "      <td>34.0</td>\n",
       "      <td>9.0</td>\n",
       "    </tr>\n",
       "    <tr>\n",
       "      <th>minimax_1_d1</th>\n",
       "      <td>9.0</td>\n",
       "      <td>29.0</td>\n",
       "      <td>0.0</td>\n",
       "    </tr>\n",
       "    <tr>\n",
       "      <th>minimax_1_d2</th>\n",
       "      <td>0.0</td>\n",
       "      <td>34.0</td>\n",
       "      <td>0.0</td>\n",
       "    </tr>\n",
       "    <tr>\n",
       "      <th>minimax_1_d4</th>\n",
       "      <td>0.0</td>\n",
       "      <td>45.0</td>\n",
       "      <td>0.0</td>\n",
       "    </tr>\n",
       "  </tbody>\n",
       "</table>\n",
       "</div>"
      ],
      "text/plain": [
       "result        0.0   0.5  1.0\n",
       "player                      \n",
       "minimax_1_d3  0.0  34.0  9.0\n",
       "minimax_1_d1  9.0  29.0  0.0\n",
       "minimax_1_d2  0.0  34.0  0.0\n",
       "minimax_1_d4  0.0  45.0  0.0"
      ]
     },
     "execution_count": 204,
     "metadata": {},
     "output_type": "execute_result"
    }
   ],
   "source": [
    "df_split_games.groupby([\"player\", \"result\"]).size().unstack().fillna(0).sort_values(1, ascending=False)"
   ]
  },
  {
   "cell_type": "markdown",
   "metadata": {},
   "source": [
    "# Minimax 3 tournament"
   ]
  },
  {
   "cell_type": "code",
   "execution_count": 258,
   "metadata": {},
   "outputs": [
    {
     "name": "stdout",
     "output_type": "stream",
     "text": [
      "              avg_duration  max_duration  min_duration\n",
      "player                                                \n",
      "minimax_3_d3      2.364482         18.51          0.04\n",
      "minimax_3_d2      0.230476          0.96          0.01\n",
      "minimax_3_d1      0.010525          0.13          0.00\n"
     ]
    },
    {
     "data": {
      "image/png": "[encoded data removed]",
      "text/plain": [
       "<Figure size 1000x500 with 1 Axes>"
      ]
     },
     "metadata": {},
     "output_type": "display_data"
    }
   ],
   "source": [
    "games = read_games(\"./tournaments/tournament_3.txt\")\n",
    "df_split_games = pd.DataFrame(split_games(games))\n",
    "df_split_games[\"num_moves\"] = df_split_games[\"moves\"].apply(lambda x: len(x))\n",
    "df_split_games[\"avg_duration\"] = df_split_games[\"durations\"].apply(lambda x: np.mean(x))\n",
    "df_split_games[\"max_duration\"] = df_split_games[\"durations\"].apply(lambda x: max(x))\n",
    "df_split_games[\"min_duration\"] = df_split_games[\"durations\"].apply(lambda x: min(x))\n",
    "df_split_games.sort_values(by=\"max_duration\", ascending=False)\n",
    "\n",
    "durations = df_split_games.groupby(\"player\").agg({\"avg_duration\": \"mean\", \"max_duration\": \"max\", \"min_duration\": \"min\"}).sort_values(by=\"avg_duration\", ascending=False)\n",
    "print(durations)\n",
    "# Plot for avg_duration\n",
    "plt.figure(figsize=(10, 5))\n",
    "sns.barplot(data=durations, x=durations.index, y=\"avg_duration\", order=durations.sort_values(by=\"avg_duration\", ascending=True).index, errorbar=None)\n",
    "plt.title(\"Average Duration per Player\")\n",
    "plt.ylabel(\"Average Duration\")\n",
    "plt.xlabel(\"\")\n",
    "plt.show()\n",
    "\n",
    "# # Plot for max_duration\n",
    "# plt.figure(figsize=(10, 5))\n",
    "# sns.barplot(data=durations, x=durations.index, y=\"max_duration\", order=durations.sort_values(by=\"max_duration\", ascending=True).index, errorbar=None)\n",
    "# plt.title(\"Maximum Duration per Player\")\n",
    "# plt.ylabel(\"Maximum Duration\")\n",
    "# plt.xlabel(\"\")\n",
    "# plt.show()\n",
    "\n",
    "# # Plot for min_duration\n",
    "# plt.figure(figsize=(10, 5))\n",
    "# sns.barplot(data=durations, x=durations.index, y=\"min_duration\", order=durations.sort_values(by=\"min_duration\", ascending=True).index, errorbar=None)\n",
    "# plt.title(\"Minimum Duration per Player\")\n",
    "# plt.ylabel(\"Minimum Duration\")\n",
    "# plt.xlabel(\"\")\n",
    "# plt.show()"
   ]
  },
  {
   "cell_type": "code",
   "execution_count": null,
   "metadata": {},
   "outputs": [],
   "source": [
    "#           Player       Rating  Number of Games  Number of Win  Number of Draw  Number of Lose  Win Rate\n",
    "# 0  minimax_3_d3  1247.637761               40              9              31               0  0.225000\n",
    "# 1  minimax_3_d2  1237.980213               39             14              16               9  0.358974\n",
    "# 2  minimax_3_d1  1123.984425               41              0              27              14  0.000000"
   ]
  }
 ],
 "metadata": {
  "kernelspec": {
   "display_name": "Python 3",
   "language": "python",
   "name": "python3"
  },
  "language_info": {
   "codemirror_mode": {
    "name": "ipython",
    "version": 3
   },
   "file_extension": ".py",
   "mimetype": "text/x-python",
   "name": "python",
   "nbconvert_exporter": "python",
   "pygments_lexer": "ipython3",
   "version": "3.11.9"
  }
 },
 "nbformat": 4,
 "nbformat_minor": 2
}
